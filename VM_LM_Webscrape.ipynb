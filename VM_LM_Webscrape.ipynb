{
 "cells": [
  {
   "cell_type": "code",
   "execution_count": 1,
   "metadata": {},
   "outputs": [],
   "source": [
    "import pandas as pd\n",
    "import numpy as np\n",
    "from matplotlib import pyplot as plt\n",
    "from urllib.request import urlopen\n",
    "from bs4 import BeautifulSoup"
   ]
  },
  {
   "cell_type": "code",
   "execution_count": null,
   "metadata": {},
   "outputs": [],
   "source": [
    "#initialise dataframe: df\n",
    "df_VM = pd.DataFrame()\n",
    "\n",
    "for num in range(1,26):\n",
    "    url = \"https://results.virginmoneylondonmarathon.com/2019/?page=\"+ str(num) +\"&event=MAS&num_results=1000&pid=list&search%5Bsex%5D=M&search%5Bage_class%5D=%25\"\n",
    "    html = urlopen(url)\n",
    "    soup = BeautifulSoup(html, 'lxml')\n",
    "    \n",
    "    #Easier to read in odd & even rows seperately and combine\n",
    "    data_odd = soup.find_all(\"li\", class_=\"list-active list-group-item row\")\n",
    "    data_even = soup.find_all(\"li\", class_ = \"list-group-item row\")\n",
    "\n",
    "    #initialize empty list\n",
    "    data = []\n",
    "\n",
    "    #Parse HTML & put data into the list: data\n",
    "    for row in data_odd:\n",
    "        str_cells = str(row)\n",
    "        cleantext = BeautifulSoup(str_cells, \"lxml\").get_text()\n",
    "        data.append(cleantext)\n",
    "\n",
    "    for row in data_even:\n",
    "        str_cells = str(row)\n",
    "        cleantext = BeautifulSoup(str_cells, \"lxml\").get_text()\n",
    "        data.append(cleantext)\n",
    "\n",
    "    #Write results to dataframe: df_VM\n",
    "    df_temp = pd.DataFrame(data)\n",
    "    \n",
    "    df_VM = df_VM.append(df_temp)"
   ]
  },
  {
   "cell_type": "code",
   "execution_count": null,
   "metadata": {},
   "outputs": [],
   "source": [
    "#Split out dataframe into seperate columns\n",
    "df1 = df_VM[0].str.split(\"\\n\" , expand = True)\n",
    "\n",
    "#Drop empty columns - seems manual\n",
    "df2 = df1.drop(columns = [0,1,2,7,8,9,10,11,16,17,18,19,21,22,23,24,25])\n",
    "\n",
    "#Rename columns\n",
    "column_labels = [\"Place (Overall)\",\"Place (Gender)\",\"Place (Category)\",\"Name\",\"Club\",\"Runner Number\",\"Category\", \"Half\", \"Finish\"]\n",
    "df2.columns = column_labels\n",
    "\n",
    "column_labels.remove(\"Club\")\n",
    "\n",
    "#Clean columns\n",
    "for i in column_labels:\n",
    "    df2[i] = df2[i].str.strip(i)\n",
    "\n",
    "#Clean club seperately - would remove Club from \"Athletics Club\"\n",
    "df2[\"Club\"] = df2[\"Club\"].str[4:]\n",
    "\n",
    "df2[\"Place (Overall)\"] = df2[\"Place (Overall)\"].astype(int)\n",
    "\n",
    "df3 = df2.sort_values(by=['Place (Overall)']).reset_index(drop = True)\n",
    "\n",
    "print(df3.head())"
   ]
  }
 ],
 "metadata": {
  "kernelspec": {
   "display_name": "Python 3",
   "language": "python",
   "name": "python3"
  },
  "language_info": {
   "codemirror_mode": {
    "name": "ipython",
    "version": 3
   },
   "file_extension": ".py",
   "mimetype": "text/x-python",
   "name": "python",
   "nbconvert_exporter": "python",
   "pygments_lexer": "ipython3",
   "version": "3.7.6"
  }
 },
 "nbformat": 4,
 "nbformat_minor": 4
}
